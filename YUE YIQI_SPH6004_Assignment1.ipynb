{
 "cells": [
  {
   "cell_type": "code",
   "execution_count": 1,
   "metadata": {},
   "outputs": [
    {
     "data": {
      "text/html": [
       "<div>\n",
       "<style scoped>\n",
       "    .dataframe tbody tr th:only-of-type {\n",
       "        vertical-align: middle;\n",
       "    }\n",
       "\n",
       "    .dataframe tbody tr th {\n",
       "        vertical-align: top;\n",
       "    }\n",
       "\n",
       "    .dataframe thead th {\n",
       "        text-align: right;\n",
       "    }\n",
       "</style>\n",
       "<table border=\"1\" class=\"dataframe\">\n",
       "  <thead>\n",
       "    <tr style=\"text-align: right;\">\n",
       "      <th></th>\n",
       "      <th>gender</th>\n",
       "      <th>age</th>\n",
       "      <th>heart_rate_min</th>\n",
       "      <th>heart_rate_max</th>\n",
       "      <th>heart_rate_mean</th>\n",
       "      <th>mbp_min</th>\n",
       "      <th>mbp_max</th>\n",
       "      <th>mbp_mean</th>\n",
       "      <th>sbp_min</th>\n",
       "      <th>sbp_max</th>\n",
       "      <th>...</th>\n",
       "      <th>bilirubin_indirect_min</th>\n",
       "      <th>urineoutput</th>\n",
       "      <th>sofa_respiration</th>\n",
       "      <th>sofa_coagulation</th>\n",
       "      <th>sofa_liver</th>\n",
       "      <th>sofa_cardiovascular</th>\n",
       "      <th>sofa_cns</th>\n",
       "      <th>sofa_renal</th>\n",
       "      <th>charlson_comorbidity_index</th>\n",
       "      <th>outcome</th>\n",
       "    </tr>\n",
       "  </thead>\n",
       "  <tbody>\n",
       "    <tr>\n",
       "      <th>0</th>\n",
       "      <td>M</td>\n",
       "      <td>54.550390</td>\n",
       "      <td>93.0</td>\n",
       "      <td>115.0</td>\n",
       "      <td>103.500000</td>\n",
       "      <td>57.0</td>\n",
       "      <td>100.0</td>\n",
       "      <td>82.733333</td>\n",
       "      <td>87.0</td>\n",
       "      <td>163.0</td>\n",
       "      <td>...</td>\n",
       "      <td>NaN</td>\n",
       "      <td>3459.0</td>\n",
       "      <td>2.0</td>\n",
       "      <td>0.0</td>\n",
       "      <td>NaN</td>\n",
       "      <td>1.0</td>\n",
       "      <td>0.0</td>\n",
       "      <td>1.0</td>\n",
       "      <td>3</td>\n",
       "      <td>False</td>\n",
       "    </tr>\n",
       "    <tr>\n",
       "      <th>1</th>\n",
       "      <td>M</td>\n",
       "      <td>86.324653</td>\n",
       "      <td>50.0</td>\n",
       "      <td>61.0</td>\n",
       "      <td>54.333333</td>\n",
       "      <td>61.0</td>\n",
       "      <td>93.0</td>\n",
       "      <td>71.695652</td>\n",
       "      <td>95.0</td>\n",
       "      <td>141.0</td>\n",
       "      <td>...</td>\n",
       "      <td>NaN</td>\n",
       "      <td>2020.0</td>\n",
       "      <td>NaN</td>\n",
       "      <td>1.0</td>\n",
       "      <td>NaN</td>\n",
       "      <td>1.0</td>\n",
       "      <td>1.0</td>\n",
       "      <td>1.0</td>\n",
       "      <td>8</td>\n",
       "      <td>False</td>\n",
       "    </tr>\n",
       "    <tr>\n",
       "      <th>2</th>\n",
       "      <td>M</td>\n",
       "      <td>40.270146</td>\n",
       "      <td>70.0</td>\n",
       "      <td>105.0</td>\n",
       "      <td>83.434783</td>\n",
       "      <td>66.0</td>\n",
       "      <td>92.0</td>\n",
       "      <td>76.695652</td>\n",
       "      <td>94.0</td>\n",
       "      <td>129.0</td>\n",
       "      <td>...</td>\n",
       "      <td>NaN</td>\n",
       "      <td>3050.0</td>\n",
       "      <td>NaN</td>\n",
       "      <td>1.0</td>\n",
       "      <td>0.0</td>\n",
       "      <td>1.0</td>\n",
       "      <td>1.0</td>\n",
       "      <td>0.0</td>\n",
       "      <td>4</td>\n",
       "      <td>False</td>\n",
       "    </tr>\n",
       "    <tr>\n",
       "      <th>3</th>\n",
       "      <td>M</td>\n",
       "      <td>73.383547</td>\n",
       "      <td>68.0</td>\n",
       "      <td>98.0</td>\n",
       "      <td>83.880000</td>\n",
       "      <td>74.0</td>\n",
       "      <td>101.0</td>\n",
       "      <td>84.694444</td>\n",
       "      <td>83.0</td>\n",
       "      <td>148.0</td>\n",
       "      <td>...</td>\n",
       "      <td>NaN</td>\n",
       "      <td>1592.0</td>\n",
       "      <td>NaN</td>\n",
       "      <td>0.0</td>\n",
       "      <td>NaN</td>\n",
       "      <td>0.0</td>\n",
       "      <td>0.0</td>\n",
       "      <td>1.0</td>\n",
       "      <td>6</td>\n",
       "      <td>False</td>\n",
       "    </tr>\n",
       "    <tr>\n",
       "      <th>4</th>\n",
       "      <td>M</td>\n",
       "      <td>70.724748</td>\n",
       "      <td>77.0</td>\n",
       "      <td>95.0</td>\n",
       "      <td>85.771429</td>\n",
       "      <td>30.0</td>\n",
       "      <td>90.0</td>\n",
       "      <td>62.657143</td>\n",
       "      <td>52.0</td>\n",
       "      <td>129.0</td>\n",
       "      <td>...</td>\n",
       "      <td>NaN</td>\n",
       "      <td>339.0</td>\n",
       "      <td>2.0</td>\n",
       "      <td>0.0</td>\n",
       "      <td>0.0</td>\n",
       "      <td>4.0</td>\n",
       "      <td>1.0</td>\n",
       "      <td>3.0</td>\n",
       "      <td>10</td>\n",
       "      <td>False</td>\n",
       "    </tr>\n",
       "  </tbody>\n",
       "</table>\n",
       "<p>5 rows × 60 columns</p>\n",
       "</div>"
      ],
      "text/plain": [
       "  gender        age  heart_rate_min  heart_rate_max  heart_rate_mean  mbp_min  \\\n",
       "0      M  54.550390            93.0           115.0       103.500000     57.0   \n",
       "1      M  86.324653            50.0            61.0        54.333333     61.0   \n",
       "2      M  40.270146            70.0           105.0        83.434783     66.0   \n",
       "3      M  73.383547            68.0            98.0        83.880000     74.0   \n",
       "4      M  70.724748            77.0            95.0        85.771429     30.0   \n",
       "\n",
       "   mbp_max   mbp_mean  sbp_min  sbp_max  ...  bilirubin_indirect_min  \\\n",
       "0    100.0  82.733333     87.0    163.0  ...                     NaN   \n",
       "1     93.0  71.695652     95.0    141.0  ...                     NaN   \n",
       "2     92.0  76.695652     94.0    129.0  ...                     NaN   \n",
       "3    101.0  84.694444     83.0    148.0  ...                     NaN   \n",
       "4     90.0  62.657143     52.0    129.0  ...                     NaN   \n",
       "\n",
       "   urineoutput  sofa_respiration  sofa_coagulation  sofa_liver  \\\n",
       "0       3459.0               2.0               0.0         NaN   \n",
       "1       2020.0               NaN               1.0         NaN   \n",
       "2       3050.0               NaN               1.0         0.0   \n",
       "3       1592.0               NaN               0.0         NaN   \n",
       "4        339.0               2.0               0.0         0.0   \n",
       "\n",
       "   sofa_cardiovascular  sofa_cns  sofa_renal  charlson_comorbidity_index  \\\n",
       "0                  1.0       0.0         1.0                           3   \n",
       "1                  1.0       1.0         1.0                           8   \n",
       "2                  1.0       1.0         0.0                           4   \n",
       "3                  0.0       0.0         1.0                           6   \n",
       "4                  4.0       1.0         3.0                          10   \n",
       "\n",
       "   outcome  \n",
       "0    False  \n",
       "1    False  \n",
       "2    False  \n",
       "3    False  \n",
       "4    False  \n",
       "\n",
       "[5 rows x 60 columns]"
      ]
     },
     "execution_count": 1,
     "metadata": {},
     "output_type": "execute_result"
    }
   ],
   "source": [
    "import pandas as pd\n",
    "import warnings\n",
    "warnings.filterwarnings('ignore')\n",
    "data = pd.read_csv('/Users/firo/Desktop/BMI/SPH6004/Assignment_1_data.csv')\n",
    "data.head()"
   ]
  },
  {
   "cell_type": "code",
   "execution_count": 23,
   "metadata": {},
   "outputs": [
    {
     "data": {
      "text/plain": [
       "(30617, 31)"
      ]
     },
     "execution_count": 23,
     "metadata": {},
     "output_type": "execute_result"
    }
   ],
   "source": [
    "temp_cols = []\n",
    "# Select the variables with the amount of missing values greater than 10,000 and then delete them\n",
    "for col,value in zip(data.isnull().sum().index,data.isnull().sum().values):\n",
    "    if value > 10000:\n",
    "        temp_cols.append(col)\n",
    "# Delete variables with missing values greater than 10000\n",
    "data.drop(temp_cols,axis=1,inplace=True)\n",
    "# Delete missing values\n",
    "data.dropna(inplace=True)\n",
    "# Drop variables that are least important based on feature importance score\n",
    "data.drop(columns=['sofa_coagulation','sofa_cardiovascular','sofa_renal'],inplace=True)\n",
    "data.shape"
   ]
  },
  {
   "cell_type": "code",
   "execution_count": 24,
   "metadata": {},
   "outputs": [
    {
     "data": {
      "text/plain": [
       "Index(['gender', 'age', 'heart_rate_min', 'heart_rate_max', 'heart_rate_mean',\n",
       "       'mbp_min', 'mbp_max', 'mbp_mean', 'sbp_min', 'sbp_max', 'sbp_mean',\n",
       "       'dbp_min', 'dbp_max', 'dbp_mean', 'temperature_min', 'temperature_max',\n",
       "       'temperature_mean', 'glucose_min', 'glucose_max', 'wbc_min', 'wbc_max',\n",
       "       'creatinine_min', 'creatinine_max', 'hemoglobin_min', 'hemoglobin_max',\n",
       "       'pt_min', 'pt_max', 'urineoutput', 'sofa_cns',\n",
       "       'charlson_comorbidity_index', 'outcome'],\n",
       "      dtype='object')"
      ]
     },
     "execution_count": 24,
     "metadata": {},
     "output_type": "execute_result"
    }
   ],
   "source": [
    "data.columns"
   ]
  },
  {
   "cell_type": "code",
   "execution_count": 25,
   "metadata": {},
   "outputs": [
    {
     "data": {
      "text/plain": [
       "False    29412\n",
       "True      1205\n",
       "Name: outcome, dtype: int64"
      ]
     },
     "execution_count": 25,
     "metadata": {},
     "output_type": "execute_result"
    }
   ],
   "source": [
    "data['outcome'].value_counts()   # The results show that the data is seriously unbalanced and needs to be processed"
   ]
  },
  {
   "cell_type": "code",
   "execution_count": 4,
   "metadata": {},
   "outputs": [],
   "source": [
    "new_df = pd.DataFrame() # Construct a new df to store data['outcome']==True\n",
    "# Generate a df with data['outcome']==True using a loop, which is equivalent to expanding the amount of data with data['outcome']==True\n",
    "for i in range(len(data[data['outcome']==False])):  \n",
    "    a = data[data['outcome']==True].sample(1)  # Randomly select a data['outcome']==True\n",
    "    new_df = new_df.append(a)  "
   ]
  },
  {
   "cell_type": "code",
   "execution_count": 5,
   "metadata": {},
   "outputs": [],
   "source": [
    "new_data = pd.concat([data,new_df])  \n",
    "new_data['gender'].replace(to_replace={'M':1,'F':0},inplace=True)\n",
    "new_data['outcome'].replace(to_replace={False:0,True:1},inplace=True) "
   ]
  },
  {
   "cell_type": "code",
   "execution_count": 6,
   "metadata": {},
   "outputs": [],
   "source": [
    "from sklearn.model_selection import train_test_split\n",
    "X = new_data.drop('outcome',axis=1)\n",
    "y = new_data['outcome']\n",
    "\n",
    "X_train, X_test, y_train, y_test = train_test_split(X, y, test_size=0.2, random_state=42)"
   ]
  },
  {
   "cell_type": "code",
   "execution_count": 7,
   "metadata": {},
   "outputs": [
    {
     "data": {
      "text/plain": [
       "0.9792603698150925"
      ]
     },
     "execution_count": 7,
     "metadata": {},
     "output_type": "execute_result"
    }
   ],
   "source": [
    "# Build a decision tree model\n",
    "from sklearn.tree import DecisionTreeClassifier\n",
    "tree = DecisionTreeClassifier()\n",
    "tree.fit(X_train,y_train)\n",
    "tree.score(X_test,y_test)"
   ]
  },
  {
   "cell_type": "code",
   "execution_count": 8,
   "metadata": {},
   "outputs": [
    {
     "data": {
      "text/plain": [
       "0.6465933699816758"
      ]
     },
     "execution_count": 8,
     "metadata": {},
     "output_type": "execute_result"
    }
   ],
   "source": [
    "# Construct a logistic regression model\n",
    "from sklearn.linear_model import LogisticRegression\n",
    "lg = LogisticRegression()\n",
    "lg.fit(X_train,y_train)\n",
    "lg.score(X_test,y_test)"
   ]
  },
  {
   "cell_type": "code",
   "execution_count": 9,
   "metadata": {},
   "outputs": [
    {
     "data": {
      "text/plain": [
       "0.5817091454272864"
      ]
     },
     "execution_count": 9,
     "metadata": {},
     "output_type": "execute_result"
    }
   ],
   "source": [
    "# Build a support vector machine model\n",
    "from sklearn.svm import SVC\n",
    "svc = SVC()\n",
    "svc.fit(X_train,y_train)\n",
    "svc.score(X_test,y_test)"
   ]
  },
  {
   "cell_type": "code",
   "execution_count": 36,
   "metadata": {},
   "outputs": [
    {
     "name": "stdout",
     "output_type": "stream",
     "text": [
      "Model Confusion Matrix: [[5584  241]\n",
      " [   0 6181]]\n",
      "Model Classification Report:               precision    recall  f1-score   support\n",
      "\n",
      "           0       1.00      0.96      0.98      5825\n",
      "           1       0.96      1.00      0.98      6181\n",
      "\n",
      "    accuracy                           0.98     12006\n",
      "   macro avg       0.98      0.98      0.98     12006\n",
      "weighted avg       0.98      0.98      0.98     12006\n",
      "\n"
     ]
    },
    {
     "data": {
      "image/png": "[encoded data removed]",
      "text/plain": [
       "<Figure size 720x720 with 1 Axes>"
      ]
     },
     "metadata": {
      "needs_background": "light"
     },
     "output_type": "display_data"
    }
   ],
   "source": [
    "# Among the accuracy of the above three models, the decision tree is the best, so the decision tree is chosen\n",
    "\n",
    "import matplotlib.pyplot as plt\n",
    "from sklearn.metrics import confusion_matrix,classification_report,roc_curve, auc\n",
    "y_pred = tree.predict(X_test)\n",
    "print('Model Confusion Matrix:',confusion_matrix(y_test,y_pred))\n",
    "print('Model Classification Report:',classification_report(y_test,y_pred))\n",
    "# Draw ROCs\n",
    "y_prob = tree.predict_proba(X_test)[:,1]\n",
    "false_positive_rate, true_positive_rate, thresholds = roc_curve(y_test, y_prob) \n",
    "roc = auc(false_positive_rate, true_positive_rate)\n",
    "plt.figure(figsize=(10,10))\n",
    "plt.title('ROC')\n",
    "plt.plot(false_positive_rate,true_positive_rate, color='red',label = 'AUC = %0.2f' % roc)\n",
    "plt.legend(loc = 'lower right')\n",
    "plt.plot([0, 1], [0, 1],linestyle='--')\n",
    "plt.axis('tight')\n",
    "plt.ylabel('True Positive Rate')\n",
    "plt.xlabel('False Positive Rate')\n",
    "plt.show()"
   ]
  },
  {
   "cell_type": "code",
   "execution_count": 35,
   "metadata": {},
   "outputs": [
    {
     "name": "stdout",
     "output_type": "stream",
     "text": [
      "1 sofa_cns 0.15328593245108188\n",
      "2 age 0.04575544034330502\n",
      "3 urineoutput 0.0409129286281243\n",
      "4 temperature_mean 0.03537740004080949\n",
      "5 heart_rate_mean 0.0346063117341833\n",
      "6 wbc_max 0.034234742292134496\n",
      "7 glucose_max 0.0337492549948373\n",
      "8 pt_max 0.03270558541966562\n",
      "9 wbc_min 0.031973208750848796\n",
      "10 pt_min 0.031156720796419426\n",
      "11 temperature_max 0.030909042601167804\n",
      "12 sbp_mean 0.029526658788377236\n",
      "13 heart_rate_max 0.029216483427972464\n",
      "14 glucose_min 0.028984055542655256\n",
      "15 hemoglobin_min 0.028334952047340725\n",
      "16 dbp_max 0.02795179379357126\n",
      "17 heart_rate_min 0.02742899129337473\n",
      "18 sbp_min 0.027261509171753618\n",
      "19 hemoglobin_max 0.027244053184197745\n",
      "20 dbp_mean 0.02702517519053091\n",
      "21 sbp_max 0.026970988237092715\n",
      "22 mbp_mean 0.026862525423520255\n",
      "23 temperature_min 0.026599174019017773\n",
      "24 mbp_max 0.026295104321723252\n",
      "25 dbp_min 0.02437021979531054\n",
      "26 mbp_min 0.02358219919104468\n",
      "27 creatinine_max 0.023147084268005734\n",
      "28 creatinine_min 0.02152731174605327\n",
      "29 charlson_comorbidity_index 0.020424624288653926\n",
      "30 sofa_coagulation 0.006795378919305109\n",
      "31 sofa_renal 0.006116157197082331\n",
      "32 sofa_cardiovascular 0.00492377338471026\n"
     ]
    },
    {
     "data": {
      "image/png": "[encoded data removed]",
      "text/plain": [
       "<Figure size 864x576 with 1 Axes>"
      ]
     },
     "metadata": {
      "needs_background": "light"
     },
     "output_type": "display_data"
    }
   ],
   "source": [
    "#Printing feature importance scores\n",
    "import numpy as np\n",
    "feat_labels = X_train.columns[0:]\n",
    "importances = forest.feature_importances_\n",
    "indices = np.argsort(importances)[::-1]\n",
    "index_list = []\n",
    "value_list = []\n",
    "for f,j in zip(range(X_train.shape[1]-1),indices):\n",
    "    index_list.append(feat_labels[j])\n",
    "    value_list.append(importances[j])\n",
    "    print(f + 1, feat_labels[j], importances[j])\n",
    "plt.figure(figsize=(12,8))\n",
    "plt.barh(index_list[::-1],value_list[::-1])\n",
    "plt.yticks(fontsize=12)\n",
    "plt.title('Feature Sorted',fontsize=14)\n",
    "plt.show()"
   ]
  },
  {
   "cell_type": "code",
   "execution_count": null,
   "metadata": {},
   "outputs": [],
   "source": []
  }
 ],
 "metadata": {
  "kernelspec": {
   "display_name": "Python 3 (ipykernel)",
   "language": "python",
   "name": "python3"
  },
  "language_info": {
   "codemirror_mode": {
    "name": "ipython",
    "version": 3
   },
   "file_extension": ".py",
   "mimetype": "text/x-python",
   "name": "python",
   "nbconvert_exporter": "python",
   "pygments_lexer": "ipython3",
   "version": "3.9.12"
  },
  "vscode": {
   "interpreter": {
    "hash": "b09ec625f77bf4fd762565a912b97636504ad6ec901eb2d0f4cf5a7de23e1ee5"
   }
  }
 },
 "nbformat": 4,
 "nbformat_minor": 2
}
